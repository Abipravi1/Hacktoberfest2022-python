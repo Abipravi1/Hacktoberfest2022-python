{
  "nbformat": 4,
  "nbformat_minor": 0,
  "metadata": {
    "colab": {
      "provenance": [],
      "include_colab_link": true
    },
    "kernelspec": {
      "name": "python3",
      "display_name": "Python 3"
    },
    "language_info": {
      "name": "python"
    }
  },
  "cells": [
    {
      "cell_type": "markdown",
      "metadata": {
        "id": "view-in-github",
        "colab_type": "text"
      },
      "source": [
        "<a href=\"https://colab.research.google.com/github/GOVINDFROMINDIA/Hacktoberfest2022-python/blob/master/RockcpaperScissor/Rock%2CPaper%20and%20Scissors.ipynb\" target=\"_parent\"><img src=\"https://colab.research.google.com/assets/colab-badge.svg\" alt=\"Open In Colab\"/></a>"
      ]
    },
    {
      "cell_type": "code",
      "source": [
        "\"\"\" Govind\n",
        "RockPaper Scissors code in python\n",
        "\"\"\"\n",
        "\n",
        "import numpy as np\n",
        "\n",
        "computer_wins = 0\n",
        "player_wins = 0\n",
        "\n",
        "def Choose():\n",
        "   user_choice = input(\"Choose Rock,Paper or Scissors :- \")\n",
        "   if user_choice in [\"Rock\",\"rock\"]:\n",
        "      user_choice = \"r\"\n",
        "   elif user_choice in [\"Paper\",\"paper\"]:\n",
        "      user_choice = \"p\"\n",
        "   elif user_choice in [\"Scissors\",\"scissors\"]:\n",
        "      user_choice = \"s\"\n",
        "   else:\n",
        "      print(\"Make correct choice.\")\n",
        "      Choose()\n",
        "   return user_choice\n",
        "\n",
        "def Computer_choose():\n",
        "   comp_choice = np.random.randint(1,3)\n",
        "   if comp_choice == 1:\n",
        "      comp_choice = \"r\"\n",
        "   elif comp_choice == 2:\n",
        "      comp_choice = \"p\"\n",
        "   else:\n",
        "      comp_choice = \"s\"\n",
        "   return comp_choice\n",
        "\n",
        "while True:\n",
        "   print(\"\")\n",
        "   user_choice = Choose()\n",
        "   comp_choice = Computer_choose()\n",
        "   print(\"\") \n",
        "\n",
        "   if user_choice == \"r\":\n",
        "     if comp_choice == \"r\":\n",
        "       print(\"You chose Rock and Computer chose Rock.You and computer tied.\")\n",
        "     elif comp_choice == \"p\":\n",
        "       print(\"You chose Rock and computer chose Paper.Computer win.\")\n",
        "       computer_wins += 1\n",
        "     elif comp_choice == \"s\":\n",
        "       print(\"You chose Rock and computer chose Scissors.You win.\")\n",
        "       player_wins += 1\n",
        "\n",
        "   elif user_choice == \"p\":\n",
        "     if comp_choice == \"r\":\n",
        "       print(\"You chose Paper and Computer chose Rock.You win.\")\n",
        "       player_wins += 1\n",
        "     elif comp_choice == \"p\":\n",
        "       print(\"You chose Paper and computer chose Paper.You and computer tied.\")\n",
        "     elif comp_choice == \"s\":\n",
        "       print(\"You chose Paper and computer chose Scissors.Computer win.\")\n",
        "       computer_wins += 1\n",
        "\n",
        "   elif user_choice == \"s\":\n",
        "     if comp_choice == \"r\":\n",
        "       print(\"You chose Scissors and Computer chose Rock.Computer win.\")\n",
        "       computer_wins += 1\n",
        "     elif comp_choice == \"p\":\n",
        "       print(\"You chose Scissors and computer chose Paper.You win.\")\n",
        "       player_wins += 1\n",
        "     elif comp_choice == \"s\":\n",
        "       print(\"You chose Scissors and computer chose Scissors.You and Computer tied.\")\n",
        "\n",
        "   print(\"\")\n",
        "   print(\"Player score : \",player_wins)\n",
        "   print(\"Computer score : \",computer_wins)\n",
        "   print(\"\")\n",
        "   user_choice = input(\"Do you want to play again?(yes/no)\")\n",
        "   if user_choice in [\"Yes\",\"yes\"]:\n",
        "    pass\n",
        "   elif user_choice in [\"No\",\"no\"]:\n",
        "    break\n",
        "   else : break\n",
        "     "
      ],
      "metadata": {
        "colab": {
          "base_uri": "https://localhost:8080/"
        },
        "id": "kyT6jagrh1EQ",
        "outputId": "a407a983-b2de-428c-8981-c0cfb8608eef"
      },
      "execution_count": null,
      "outputs": [
        {
          "name": "stdout",
          "output_type": "stream",
          "text": [
            "\n",
            "Choose Rock,Paper or Scissors :- paper\n",
            "\n",
            "You chose Paper and Computer chose Rock.You win.\n",
            "\n",
            "Player score :  1\n",
            "Computer score :  0\n",
            "\n",
            "Do you want to play again?(yes/no)yes\n",
            "\n",
            "Choose Rock,Paper or Scissors :- rock\n",
            "\n",
            "You chose Rock and computer chose Paper.Computer win.\n",
            "\n",
            "Player score :  1\n",
            "Computer score :  1\n",
            "\n",
            "Do you want to play again?(yes/no)yes\n",
            "\n",
            "Choose Rock,Paper or Scissors :- scissors\n",
            "\n",
            "You chose Scissors and computer chose Paper.You win.\n",
            "\n",
            "Player score :  2\n",
            "Computer score :  1\n",
            "\n",
            "Do you want to play again?(yes/no)no\n"
          ]
        }
      ]
    }
  ]
}