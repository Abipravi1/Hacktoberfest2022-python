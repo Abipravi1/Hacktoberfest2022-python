{
 "cells": [
  {
   "cell_type": "code",
   "execution_count": 1,
   "id": "c113fee9",
   "metadata": {},
   "outputs": [],
   "source": [
    "import numpy as np\n",
    "import pandas as pd\n",
    "from sklearn.model_selection import train_test_split"
   ]
  },
  {
   "cell_type": "code",
   "execution_count": 2,
   "id": "bd326430",
   "metadata": {},
   "outputs": [
    {
     "name": "stdout",
     "output_type": "stream",
     "text": [
      "  country_code country_name  region_id         Region Name income_roup  \\\n",
      "0          ABW        Aruba          6  Western Hemisphere         HIC   \n",
      "1          ABW        Aruba          6  Western Hemisphere         HIC   \n",
      "2          ABW        Aruba          6  Western Hemisphere         HIC   \n",
      "3          ABW        Aruba          6  Western Hemisphere         HIC   \n",
      "4          ABW        Aruba          6  Western Hemisphere         HIC   \n",
      "5          ABW        Aruba          6  Western Hemisphere         HIC   \n",
      "\n",
      "     income_group_name  transaction_type_id transaction_type_name fiscal_year  \\\n",
      "0  High Income Country                    2           Obligations        1999   \n",
      "1  High Income Country                    2           Obligations        2000   \n",
      "2  High Income Country                    2           Obligations        2004   \n",
      "3  High Income Country                    2           Obligations        2005   \n",
      "4  High Income Country                    2           Obligations        2006   \n",
      "5  High Income Country                    2           Obligations        2007   \n",
      "\n",
      "   current_amount  constant_amount  \n",
      "0           19000            28303  \n",
      "1           50000            72982  \n",
      "2            1000             1346  \n",
      "3           29270            38231  \n",
      "4            1000             1266  \n",
      "5           97937           120671  \n"
     ]
    }
   ],
   "source": [
    "data = pd.read_csv(\"us_foreign_aid_country.csv\")\n",
    "print(data.head(6))"
   ]
  },
  {
   "cell_type": "code",
   "execution_count": 3,
   "id": "761c6b0a",
   "metadata": {},
   "outputs": [
    {
     "name": "stdout",
     "output_type": "stream",
     "text": [
      "<class 'pandas.core.frame.DataFrame'>\n",
      "RangeIndex: 21973 entries, 0 to 21972\n",
      "Data columns (total 11 columns):\n",
      " #   Column                 Non-Null Count  Dtype \n",
      "---  ------                 --------------  ----- \n",
      " 0   country_code           21914 non-null  object\n",
      " 1   country_name           21973 non-null  object\n",
      " 2   region_id              21973 non-null  int64 \n",
      " 3   Region Name            21973 non-null  object\n",
      " 4   income_roup            19764 non-null  object\n",
      " 5   income_group_name      19764 non-null  object\n",
      " 6   transaction_type_id    21973 non-null  int64 \n",
      " 7   transaction_type_name  21973 non-null  object\n",
      " 8   fiscal_year            21973 non-null  object\n",
      " 9   current_amount         21973 non-null  int64 \n",
      " 10  constant_amount        21973 non-null  int64 \n",
      "dtypes: int64(4), object(7)\n",
      "memory usage: 1.8+ MB\n"
     ]
    }
   ],
   "source": [
    "data.info()"
   ]
  },
  {
   "cell_type": "code",
   "execution_count": 4,
   "id": "ea7d31ae",
   "metadata": {},
   "outputs": [
    {
     "name": "stdout",
     "output_type": "stream",
     "text": [
      "  country_name  region_id         Region Name income_roup  \\\n",
      "0        Aruba          6  Western Hemisphere         HIC   \n",
      "1        Aruba          6  Western Hemisphere         HIC   \n",
      "2        Aruba          6  Western Hemisphere         HIC   \n",
      "3        Aruba          6  Western Hemisphere         HIC   \n",
      "4        Aruba          6  Western Hemisphere         HIC   \n",
      "\n",
      "   transaction_type_id transaction_type_name fiscal_year  current_amount  \\\n",
      "0                    2           Obligations        1999           19000   \n",
      "1                    2           Obligations        2000           50000   \n",
      "2                    2           Obligations        2004            1000   \n",
      "3                    2           Obligations        2005           29270   \n",
      "4                    2           Obligations        2006            1000   \n",
      "\n",
      "   constant_amount  \n",
      "0            28303  \n",
      "1            72982  \n",
      "2             1346  \n",
      "3            38231  \n",
      "4             1266  \n"
     ]
    }
   ],
   "source": [
    "data = data.drop([\"country_code\",\"income_group_name\"],axis=1)\n",
    "print(data.head(5))"
   ]
  },
  {
   "cell_type": "code",
   "execution_count": 5,
   "id": "2352b51c",
   "metadata": {},
   "outputs": [],
   "source": [
    "data = data.dropna()"
   ]
  },
  {
   "cell_type": "code",
   "execution_count": 6,
   "id": "d03fc9b5",
   "metadata": {},
   "outputs": [
    {
     "data": {
      "text/plain": [
       "country_name             0\n",
       "region_id                0\n",
       "Region Name              0\n",
       "income_roup              0\n",
       "transaction_type_id      0\n",
       "transaction_type_name    0\n",
       "fiscal_year              0\n",
       "current_amount           0\n",
       "constant_amount          0\n",
       "dtype: int64"
      ]
     },
     "execution_count": 6,
     "metadata": {},
     "output_type": "execute_result"
    }
   ],
   "source": [
    "data.isnull().sum()"
   ]
  },
  {
   "cell_type": "code",
   "execution_count": 7,
   "id": "d850195a",
   "metadata": {},
   "outputs": [
    {
     "data": {
      "text/plain": [
       "(19764, 9)"
      ]
     },
     "execution_count": 7,
     "metadata": {},
     "output_type": "execute_result"
    }
   ],
   "source": [
    "data.shape"
   ]
  },
  {
   "cell_type": "code",
   "execution_count": 8,
   "id": "1c818c67",
   "metadata": {},
   "outputs": [
    {
     "data": {
      "text/plain": [
       "Sub-Saharan Africa              5854\n",
       "Western Hemisphere              4053\n",
       "Europe and Eurasia              3680\n",
       "East Asia and Oceania           2750\n",
       "Middle East and North Africa    2006\n",
       "South and Central Asia          1421\n",
       "Name: Region Name, dtype: int64"
      ]
     },
     "execution_count": 8,
     "metadata": {},
     "output_type": "execute_result"
    }
   ],
   "source": [
    "data[\"Region Name\"].value_counts()"
   ]
  },
  {
   "cell_type": "code",
   "execution_count": 9,
   "id": "4f17411b",
   "metadata": {},
   "outputs": [
    {
     "data": {
      "text/plain": [
       "Obligations                    9737\n",
       "Disbursements                  3949\n",
       "Appropriated and Planned       2183\n",
       "President's Budget Requests    2161\n",
       "Initial Allocations            1734\n",
       "Name: transaction_type_name, dtype: int64"
      ]
     },
     "execution_count": 9,
     "metadata": {},
     "output_type": "execute_result"
    }
   ],
   "source": [
    "data[\"transaction_type_name\"].value_counts()"
   ]
  },
  {
   "cell_type": "code",
   "execution_count": 10,
   "id": "6a68d714",
   "metadata": {},
   "outputs": [],
   "source": [
    "Label_mapping= {\"Sub-Saharan Africa\":6,\"Western Hemisphere\":1,\"Europe and Eurasia\":2,\"East Asia and Oceania\":3,\"Middle East and North Africa\":4,\"South and Central Asia\":5}\n",
    "data[\"Region Name\"]= data[\"Region Name\"].map(Label_mapping)"
   ]
  },
  {
   "cell_type": "code",
   "execution_count": 11,
   "id": "457ec9c2",
   "metadata": {},
   "outputs": [
    {
     "name": "stdout",
     "output_type": "stream",
     "text": [
      "  country_name  region_id  Region Name income_roup  transaction_type_id  \\\n",
      "0        Aruba          6            1         HIC                    2   \n",
      "1        Aruba          6            1         HIC                    2   \n",
      "2        Aruba          6            1         HIC                    2   \n",
      "3        Aruba          6            1         HIC                    2   \n",
      "4        Aruba          6            1         HIC                    2   \n",
      "5        Aruba          6            1         HIC                    2   \n",
      "\n",
      "  transaction_type_name fiscal_year  current_amount  constant_amount  \n",
      "0           Obligations        1999           19000            28303  \n",
      "1           Obligations        2000           50000            72982  \n",
      "2           Obligations        2004            1000             1346  \n",
      "3           Obligations        2005           29270            38231  \n",
      "4           Obligations        2006            1000             1266  \n",
      "5           Obligations        2007           97937           120671  \n"
     ]
    }
   ],
   "source": [
    "print(data.head(6))"
   ]
  },
  {
   "cell_type": "code",
   "execution_count": 12,
   "id": "208b3d73",
   "metadata": {},
   "outputs": [
    {
     "data": {
      "text/plain": [
       "19764"
      ]
     },
     "execution_count": 12,
     "metadata": {},
     "output_type": "execute_result"
    }
   ],
   "source": [
    "data[\"Region Name\"].value_counts().sum()"
   ]
  },
  {
   "cell_type": "code",
   "execution_count": 13,
   "id": "2b9de00c",
   "metadata": {},
   "outputs": [
    {
     "data": {
      "text/plain": [
       "0    3\n",
       "1    3\n",
       "2    3\n",
       "3    3\n",
       "4    3\n",
       "5    3\n",
       "Name: transaction_type_name, dtype: int32"
      ]
     },
     "execution_count": 13,
     "metadata": {},
     "output_type": "execute_result"
    }
   ],
   "source": [
    "from sklearn.preprocessing import LabelEncoder\n",
    "LB = LabelEncoder()\n",
    "data[\"transaction_type_name\"] = LB.fit_transform(data[\"transaction_type_name\"])\n",
    "data[\"transaction_type_name\"].head(6)"
   ]
  },
  {
   "cell_type": "code",
   "execution_count": 14,
   "id": "bde566f1",
   "metadata": {},
   "outputs": [
    {
     "data": {
      "text/plain": [
       "UMIC    6123\n",
       "LMIC    5341\n",
       "HIC     4455\n",
       "LIC     3845\n",
       "Name: income_roup, dtype: int64"
      ]
     },
     "execution_count": 14,
     "metadata": {},
     "output_type": "execute_result"
    }
   ],
   "source": [
    "data[\"income_roup\"].value_counts()"
   ]
  },
  {
   "cell_type": "code",
   "execution_count": 15,
   "id": "e2f0badc",
   "metadata": {},
   "outputs": [
    {
     "name": "stdout",
     "output_type": "stream",
     "text": [
      "  country_name  region_id  Region Name  income_roup  transaction_type_id  \\\n",
      "0        Aruba          6            1            0                    2   \n",
      "1        Aruba          6            1            0                    2   \n",
      "2        Aruba          6            1            0                    2   \n",
      "3        Aruba          6            1            0                    2   \n",
      "4        Aruba          6            1            0                    2   \n",
      "5        Aruba          6            1            0                    2   \n",
      "\n",
      "   transaction_type_name fiscal_year  current_amount  constant_amount  \n",
      "0                      3        1999           19000            28303  \n",
      "1                      3        2000           50000            72982  \n",
      "2                      3        2004            1000             1346  \n",
      "3                      3        2005           29270            38231  \n",
      "4                      3        2006            1000             1266  \n",
      "5                      3        2007           97937           120671  \n"
     ]
    }
   ],
   "source": [
    "data[\"income_roup\"] = LB.fit_transform(data[\"income_roup\"])\n",
    "print(data.head(6))"
   ]
  },
  {
   "cell_type": "code",
   "execution_count": 16,
   "id": "d8cb7e2c",
   "metadata": {},
   "outputs": [
    {
     "name": "stdout",
     "output_type": "stream",
     "text": [
      "2009    832\n",
      "2008    831\n",
      "2011    829\n",
      "2010    828\n",
      "2012    821\n",
      "       ... \n",
      "1946     47\n",
      "1947     47\n",
      "1950     44\n",
      "1949     40\n",
      "1948     38\n",
      "Name: fiscal_year, Length: 77, dtype: int64\n"
     ]
    }
   ],
   "source": [
    "def year_change(year):\n",
    "    if year == \"1976tq\":\n",
    "        return int(1976)\n",
    "    else:\n",
    "        return int(year)\n",
    "    \n",
    "data[\"fiscal_year\"] = data[\"fiscal_year\"].apply(year_change)\n",
    "print(data[\"fiscal_year\"].value_counts())"
   ]
  },
  {
   "cell_type": "code",
   "execution_count": 17,
   "id": "2c2eb4b4",
   "metadata": {},
   "outputs": [],
   "source": [
    "Y = data[\"constant_amount\"]"
   ]
  },
  {
   "cell_type": "code",
   "execution_count": 18,
   "id": "a5d0b8d2",
   "metadata": {},
   "outputs": [],
   "source": [
    "X = data.drop([\"constant_amount\",\"country_name\"],axis=1)"
   ]
  },
  {
   "cell_type": "code",
   "execution_count": 19,
   "id": "1880482f",
   "metadata": {},
   "outputs": [
    {
     "name": "stdout",
     "output_type": "stream",
     "text": [
      "   region_id  Region Name  income_roup  transaction_type_id  \\\n",
      "0          6            1            0                    2   \n",
      "1          6            1            0                    2   \n",
      "2          6            1            0                    2   \n",
      "3          6            1            0                    2   \n",
      "4          6            1            0                    2   \n",
      "\n",
      "   transaction_type_name  fiscal_year  current_amount  \n",
      "0                      3         1999           19000  \n",
      "1                      3         2000           50000  \n",
      "2                      3         2004            1000  \n",
      "3                      3         2005           29270  \n",
      "4                      3         2006            1000  \n"
     ]
    }
   ],
   "source": [
    "print(X.head(5))"
   ]
  },
  {
   "cell_type": "code",
   "execution_count": 20,
   "id": "213ca420",
   "metadata": {},
   "outputs": [],
   "source": [
    "x_train,x_test,y_train,y_test = train_test_split(X,Y, test_size=0.2)"
   ]
  },
  {
   "cell_type": "code",
   "execution_count": 21,
   "id": "97237bdf",
   "metadata": {},
   "outputs": [
    {
     "data": {
      "text/html": [
       "<div>\n",
       "<style scoped>\n",
       "    .dataframe tbody tr th:only-of-type {\n",
       "        vertical-align: middle;\n",
       "    }\n",
       "\n",
       "    .dataframe tbody tr th {\n",
       "        vertical-align: top;\n",
       "    }\n",
       "\n",
       "    .dataframe thead th {\n",
       "        text-align: right;\n",
       "    }\n",
       "</style>\n",
       "<table border=\"1\" class=\"dataframe\">\n",
       "  <thead>\n",
       "    <tr style=\"text-align: right;\">\n",
       "      <th></th>\n",
       "      <th>region_id</th>\n",
       "      <th>Region Name</th>\n",
       "      <th>income_roup</th>\n",
       "      <th>transaction_type_id</th>\n",
       "      <th>transaction_type_name</th>\n",
       "      <th>fiscal_year</th>\n",
       "      <th>current_amount</th>\n",
       "    </tr>\n",
       "  </thead>\n",
       "  <tbody>\n",
       "    <tr>\n",
       "      <th>6565</th>\n",
       "      <td>1</td>\n",
       "      <td>3</td>\n",
       "      <td>3</td>\n",
       "      <td>2</td>\n",
       "      <td>3</td>\n",
       "      <td>2005</td>\n",
       "      <td>1758144</td>\n",
       "    </tr>\n",
       "    <tr>\n",
       "      <th>7560</th>\n",
       "      <td>5</td>\n",
       "      <td>6</td>\n",
       "      <td>3</td>\n",
       "      <td>2</td>\n",
       "      <td>3</td>\n",
       "      <td>2013</td>\n",
       "      <td>219871</td>\n",
       "    </tr>\n",
       "    <tr>\n",
       "      <th>11838</th>\n",
       "      <td>5</td>\n",
       "      <td>6</td>\n",
       "      <td>1</td>\n",
       "      <td>1</td>\n",
       "      <td>0</td>\n",
       "      <td>2020</td>\n",
       "      <td>105700000</td>\n",
       "    </tr>\n",
       "    <tr>\n",
       "      <th>1368</th>\n",
       "      <td>5</td>\n",
       "      <td>6</td>\n",
       "      <td>1</td>\n",
       "      <td>19</td>\n",
       "      <td>2</td>\n",
       "      <td>2016</td>\n",
       "      <td>23330000</td>\n",
       "    </tr>\n",
       "    <tr>\n",
       "      <th>842</th>\n",
       "      <td>6</td>\n",
       "      <td>1</td>\n",
       "      <td>0</td>\n",
       "      <td>3</td>\n",
       "      <td>1</td>\n",
       "      <td>2008</td>\n",
       "      <td>106000</td>\n",
       "    </tr>\n",
       "    <tr>\n",
       "      <th>...</th>\n",
       "      <td>...</td>\n",
       "      <td>...</td>\n",
       "      <td>...</td>\n",
       "      <td>...</td>\n",
       "      <td>...</td>\n",
       "      <td>...</td>\n",
       "      <td>...</td>\n",
       "    </tr>\n",
       "    <tr>\n",
       "      <th>14960</th>\n",
       "      <td>4</td>\n",
       "      <td>5</td>\n",
       "      <td>2</td>\n",
       "      <td>2</td>\n",
       "      <td>3</td>\n",
       "      <td>2011</td>\n",
       "      <td>1947137557</td>\n",
       "    </tr>\n",
       "    <tr>\n",
       "      <th>16159</th>\n",
       "      <td>3</td>\n",
       "      <td>4</td>\n",
       "      <td>2</td>\n",
       "      <td>19</td>\n",
       "      <td>2</td>\n",
       "      <td>2008</td>\n",
       "      <td>217986000</td>\n",
       "    </tr>\n",
       "    <tr>\n",
       "      <th>5545</th>\n",
       "      <td>6</td>\n",
       "      <td>1</td>\n",
       "      <td>3</td>\n",
       "      <td>2</td>\n",
       "      <td>3</td>\n",
       "      <td>1948</td>\n",
       "      <td>600000</td>\n",
       "    </tr>\n",
       "    <tr>\n",
       "      <th>7280</th>\n",
       "      <td>5</td>\n",
       "      <td>6</td>\n",
       "      <td>1</td>\n",
       "      <td>18</td>\n",
       "      <td>4</td>\n",
       "      <td>2017</td>\n",
       "      <td>26160000</td>\n",
       "    </tr>\n",
       "    <tr>\n",
       "      <th>21853</th>\n",
       "      <td>5</td>\n",
       "      <td>6</td>\n",
       "      <td>2</td>\n",
       "      <td>19</td>\n",
       "      <td>2</td>\n",
       "      <td>2018</td>\n",
       "      <td>464426000</td>\n",
       "    </tr>\n",
       "  </tbody>\n",
       "</table>\n",
       "<p>3953 rows × 7 columns</p>\n",
       "</div>"
      ],
      "text/plain": [
       "       region_id  Region Name  income_roup  transaction_type_id  \\\n",
       "6565           1            3            3                    2   \n",
       "7560           5            6            3                    2   \n",
       "11838          5            6            1                    1   \n",
       "1368           5            6            1                   19   \n",
       "842            6            1            0                    3   \n",
       "...          ...          ...          ...                  ...   \n",
       "14960          4            5            2                    2   \n",
       "16159          3            4            2                   19   \n",
       "5545           6            1            3                    2   \n",
       "7280           5            6            1                   18   \n",
       "21853          5            6            2                   19   \n",
       "\n",
       "       transaction_type_name  fiscal_year  current_amount  \n",
       "6565                       3         2005         1758144  \n",
       "7560                       3         2013          219871  \n",
       "11838                      0         2020       105700000  \n",
       "1368                       2         2016        23330000  \n",
       "842                        1         2008          106000  \n",
       "...                      ...          ...             ...  \n",
       "14960                      3         2011      1947137557  \n",
       "16159                      2         2008       217986000  \n",
       "5545                       3         1948          600000  \n",
       "7280                       4         2017        26160000  \n",
       "21853                      2         2018       464426000  \n",
       "\n",
       "[3953 rows x 7 columns]"
      ]
     },
     "execution_count": 21,
     "metadata": {},
     "output_type": "execute_result"
    }
   ],
   "source": [
    "x_test"
   ]
  },
  {
   "cell_type": "code",
   "execution_count": 22,
   "id": "7a0eeb1a",
   "metadata": {},
   "outputs": [
    {
     "name": "stdout",
     "output_type": "stream",
     "text": [
      "<class 'pandas.core.frame.DataFrame'>\n",
      "Int64Index: 19764 entries, 0 to 21972\n",
      "Data columns (total 7 columns):\n",
      " #   Column                 Non-Null Count  Dtype\n",
      "---  ------                 --------------  -----\n",
      " 0   region_id              19764 non-null  int64\n",
      " 1   Region Name            19764 non-null  int64\n",
      " 2   income_roup            19764 non-null  int32\n",
      " 3   transaction_type_id    19764 non-null  int64\n",
      " 4   transaction_type_name  19764 non-null  int32\n",
      " 5   fiscal_year            19764 non-null  int64\n",
      " 6   current_amount         19764 non-null  int64\n",
      "dtypes: int32(2), int64(5)\n",
      "memory usage: 1.1 MB\n"
     ]
    }
   ],
   "source": [
    "X.info()"
   ]
  },
  {
   "cell_type": "markdown",
   "id": "a21ebf28",
   "metadata": {},
   "source": [
    "### **Train a Model**"
   ]
  },
  {
   "cell_type": "code",
   "execution_count": 23,
   "id": "c8ccdbd4",
   "metadata": {},
   "outputs": [],
   "source": [
    "from sklearn.linear_model import LinearRegression\n",
    "from sklearn.linear_model import Lasso\n",
    "from sklearn.tree import DecisionTreeRegressor\n",
    "from sklearn.ensemble import RandomForestRegressor"
   ]
  },
  {
   "cell_type": "code",
   "execution_count": 24,
   "id": "066c1317",
   "metadata": {},
   "outputs": [],
   "source": [
    "def model_acc(model):\n",
    "    model.fit(x_train,y_train)\n",
    "    acc = model.score(x_test,y_test)\n",
    "    print(str(model)+\" : \"+str(acc*100))\n"
   ]
  },
  {
   "cell_type": "code",
   "execution_count": 25,
   "id": "540e9699",
   "metadata": {},
   "outputs": [
    {
     "name": "stdout",
     "output_type": "stream",
     "text": [
      "LinearRegression() : 71.5401402654487\n"
     ]
    },
    {
     "name": "stderr",
     "output_type": "stream",
     "text": [
      "D:\\Programs\\Python\\lib\\site-packages\\sklearn\\linear_model\\_coordinate_descent.py:648: ConvergenceWarning: Objective did not converge. You might want to increase the number of iterations, check the scale of the features or consider increasing regularisation. Duality gap: 1.236e+21, tolerance: 9.761e+17\n",
      "  model = cd_fast.enet_coordinate_descent(\n"
     ]
    },
    {
     "name": "stdout",
     "output_type": "stream",
     "text": [
      "Lasso() : 71.54014026898209\n",
      "DecisionTreeRegressor() : 99.20944750478957\n",
      "RandomForestRegressor() : 98.6643512301399\n"
     ]
    }
   ],
   "source": [
    "LR = LinearRegression()\n",
    "lasso = Lasso()\n",
    "DT = DecisionTreeRegressor()\n",
    "rf = RandomForestRegressor()\n",
    "\n",
    "model_acc(LR)\n",
    "model_acc(lasso)\n",
    "model_acc(DT)\n",
    "model_acc(rf)"
   ]
  },
  {
   "cell_type": "code",
   "execution_count": 28,
   "id": "2ed43586",
   "metadata": {},
   "outputs": [],
   "source": [
    "from sklearn.model_selection import GridSearchCV\n",
    "paramters = {\"max_depth\":[10,50,100],\n",
    "             \"criterion\":[\"squared_error\",\"absolute_error\",\"poisson\"]}\n"
   ]
  },
  {
   "cell_type": "code",
   "execution_count": 29,
   "id": "115c120c",
   "metadata": {},
   "outputs": [
    {
     "name": "stderr",
     "output_type": "stream",
     "text": [
      "D:\\Programs\\Python\\lib\\site-packages\\sklearn\\model_selection\\_validation.py:378: FitFailedWarning: \n",
      "15 fits failed out of a total of 45.\n",
      "The score on these train-test partitions for these parameters will be set to nan.\n",
      "If these failures are not expected, you can try to debug them by setting error_score='raise'.\n",
      "\n",
      "Below are more details about the failures:\n",
      "--------------------------------------------------------------------------------\n",
      "15 fits failed with the following error:\n",
      "Traceback (most recent call last):\n",
      "  File \"D:\\Programs\\Python\\lib\\site-packages\\sklearn\\model_selection\\_validation.py\", line 686, in _fit_and_score\n",
      "    estimator.fit(X_train, y_train, **fit_params)\n",
      "  File \"D:\\Programs\\Python\\lib\\site-packages\\sklearn\\tree\\_classes.py\", line 1342, in fit\n",
      "    super().fit(\n",
      "  File \"D:\\Programs\\Python\\lib\\site-packages\\sklearn\\tree\\_classes.py\", line 185, in fit\n",
      "    raise ValueError(\n",
      "ValueError: Some value(s) of y are negative which is not allowed for Poisson regression.\n",
      "\n",
      "  warnings.warn(some_fits_failed_message, FitFailedWarning)\n",
      "D:\\Programs\\Python\\lib\\site-packages\\sklearn\\model_selection\\_search.py:953: UserWarning: One or more of the test scores are non-finite: [0.94832818 0.92788754 0.94127988 0.93782751 0.94834784 0.94738225\n",
      "        nan        nan        nan]\n",
      "  warnings.warn(\n"
     ]
    },
    {
     "name": "stdout",
     "output_type": "stream",
     "text": [
      "DecisionTreeRegressor(criterion='absolute_error', max_depth=50)\n"
     ]
    }
   ],
   "source": [
    "grid_obj = GridSearchCV(estimator=DT,param_grid=paramters)\n",
    "grid_fit = grid_obj.fit(x_train,y_train)\n",
    "best_model = grid_fit.best_estimator_\n",
    "print(best_model)"
   ]
  },
  {
   "cell_type": "code",
   "execution_count": 30,
   "id": "e388a46a",
   "metadata": {},
   "outputs": [
    {
     "name": "stdout",
     "output_type": "stream",
     "text": [
      "0.986643512301399\n"
     ]
    }
   ],
   "source": [
    "accu = rf.score(x_test,y_test)\n",
    "print(accu)\n"
   ]
  },
  {
   "cell_type": "code",
   "execution_count": 32,
   "id": "9d15fc2f",
   "metadata": {},
   "outputs": [
    {
     "name": "stdout",
     "output_type": "stream",
     "text": [
      "[28303.]\n"
     ]
    },
    {
     "name": "stderr",
     "output_type": "stream",
     "text": [
      "D:\\Programs\\Python\\lib\\site-packages\\sklearn\\base.py:450: UserWarning: X does not have valid feature names, but DecisionTreeRegressor was fitted with feature names\n",
      "  warnings.warn(\n"
     ]
    }
   ],
   "source": [
    "pred = best_model.predict([[6,1,0,2,3,1999,19000]])\n",
    "print(pred)"
   ]
  },
  {
   "cell_type": "code",
   "execution_count": null,
   "id": "d1734e17",
   "metadata": {},
   "outputs": [],
   "source": []
  }
 ],
 "metadata": {
  "kernelspec": {
   "display_name": "Python 3 (ipykernel)",
   "language": "python",
   "name": "python3"
  },
  "language_info": {
   "codemirror_mode": {
    "name": "ipython",
    "version": 3
   },
   "file_extension": ".py",
   "mimetype": "text/x-python",
   "name": "python",
   "nbconvert_exporter": "python",
   "pygments_lexer": "ipython3",
   "version": "3.10.1"
  }
 },
 "nbformat": 4,
 "nbformat_minor": 5
}
