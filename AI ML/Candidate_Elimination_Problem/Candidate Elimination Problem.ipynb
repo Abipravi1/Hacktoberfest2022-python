{
 "cells": [
  {
   "cell_type": "code",
   "execution_count": 1,
   "id": "9464969a",
   "metadata": {},
   "outputs": [],
   "source": [
    "import pandas as pd\n",
    "import numpy as np"
   ]
  },
  {
   "cell_type": "code",
   "execution_count": 2,
   "id": "c8e808e0",
   "metadata": {},
   "outputs": [],
   "source": [
    "df=pd.read_csv(\"dataset-1.csv\")"
   ]
  },
  {
   "cell_type": "code",
   "execution_count": 3,
   "id": "7adcc35c",
   "metadata": {},
   "outputs": [
    {
     "data": {
      "text/html": [
       "<div>\n",
       "<style scoped>\n",
       "    .dataframe tbody tr th:only-of-type {\n",
       "        vertical-align: middle;\n",
       "    }\n",
       "\n",
       "    .dataframe tbody tr th {\n",
       "        vertical-align: top;\n",
       "    }\n",
       "\n",
       "    .dataframe thead th {\n",
       "        text-align: right;\n",
       "    }\n",
       "</style>\n",
       "<table border=\"1\" class=\"dataframe\">\n",
       "  <thead>\n",
       "    <tr style=\"text-align: right;\">\n",
       "      <th></th>\n",
       "      <th>Time</th>\n",
       "      <th>Weather</th>\n",
       "      <th>Temperature</th>\n",
       "      <th>Company</th>\n",
       "      <th>Humidity</th>\n",
       "      <th>Wind</th>\n",
       "      <th>Goes</th>\n",
       "    </tr>\n",
       "  </thead>\n",
       "  <tbody>\n",
       "    <tr>\n",
       "      <th>0</th>\n",
       "      <td>Morning</td>\n",
       "      <td>Sunny</td>\n",
       "      <td>Warm</td>\n",
       "      <td>Yes</td>\n",
       "      <td>Mild</td>\n",
       "      <td>Strong</td>\n",
       "      <td>Yes</td>\n",
       "    </tr>\n",
       "    <tr>\n",
       "      <th>1</th>\n",
       "      <td>Evening</td>\n",
       "      <td>Rainy</td>\n",
       "      <td>Cold</td>\n",
       "      <td>No</td>\n",
       "      <td>Mild</td>\n",
       "      <td>Normal</td>\n",
       "      <td>No</td>\n",
       "    </tr>\n",
       "    <tr>\n",
       "      <th>2</th>\n",
       "      <td>Morning</td>\n",
       "      <td>Sunny</td>\n",
       "      <td>Moderate</td>\n",
       "      <td>Yes</td>\n",
       "      <td>Normal</td>\n",
       "      <td>Normal</td>\n",
       "      <td>Yes</td>\n",
       "    </tr>\n",
       "    <tr>\n",
       "      <th>3</th>\n",
       "      <td>Evening</td>\n",
       "      <td>Sunny</td>\n",
       "      <td>Cold</td>\n",
       "      <td>Yes</td>\n",
       "      <td>High</td>\n",
       "      <td>Strong</td>\n",
       "      <td>Yes</td>\n",
       "    </tr>\n",
       "  </tbody>\n",
       "</table>\n",
       "</div>"
      ],
      "text/plain": [
       "      Time Weather Temperature Company Humidity    Wind Goes\n",
       "0  Morning   Sunny        Warm     Yes     Mild  Strong  Yes\n",
       "1  Evening   Rainy        Cold      No     Mild  Normal   No\n",
       "2  Morning   Sunny    Moderate     Yes   Normal  Normal  Yes\n",
       "3  Evening   Sunny        Cold     Yes     High  Strong  Yes"
      ]
     },
     "execution_count": 3,
     "metadata": {},
     "output_type": "execute_result"
    }
   ],
   "source": [
    "df"
   ]
  },
  {
   "cell_type": "code",
   "execution_count": 4,
   "id": "2d088a9c",
   "metadata": {},
   "outputs": [],
   "source": [
    "concepts=np.array(df.iloc[:,0:-1])"
   ]
  },
  {
   "cell_type": "code",
   "execution_count": 5,
   "id": "59b64ac2",
   "metadata": {},
   "outputs": [
    {
     "name": "stdout",
     "output_type": "stream",
     "text": [
      "[['Morning' 'Sunny' 'Warm' 'Yes' 'Mild' 'Strong']\n",
      " ['Evening' 'Rainy' 'Cold' 'No' 'Mild' 'Normal']\n",
      " ['Morning' 'Sunny' 'Moderate' 'Yes' 'Normal' 'Normal']\n",
      " ['Evening' 'Sunny' 'Cold' 'Yes' 'High' 'Strong']]\n"
     ]
    }
   ],
   "source": [
    "print(concepts)"
   ]
  },
  {
   "cell_type": "code",
   "execution_count": 6,
   "id": "d3e914dc",
   "metadata": {},
   "outputs": [],
   "source": [
    "target=np.array(df.iloc[:,-1])"
   ]
  },
  {
   "cell_type": "code",
   "execution_count": 7,
   "id": "7a226eca",
   "metadata": {},
   "outputs": [
    {
     "name": "stdout",
     "output_type": "stream",
     "text": [
      "['Yes' 'No' 'Yes' 'Yes']\n"
     ]
    }
   ],
   "source": [
    "print(target)"
   ]
  },
  {
   "cell_type": "code",
   "execution_count": 8,
   "id": "b42e068a",
   "metadata": {},
   "outputs": [],
   "source": [
    "def train(concepts,target):\n",
    "    specific_h=concepts[0].copy()\n",
    "    print(\"Initializing Specific_h and General_h\")\n",
    "    print(specific_h)\n",
    "    general_h=[['?' for i in range(len(specific_h))] for i in range(len(specific_h))]\n",
    "    print(general_h)\n",
    "    \n",
    "    for i,h in enumerate(concepts):\n",
    "        if(target[i])=='Yes':\n",
    "            for x in range(len(specific_h)):\n",
    "                if(h[x]!=specific_h[x]):\n",
    "                    specific_h[x]='?'\n",
    "                    general_h[x][x]='?'\n",
    "                    \n",
    "                    \n",
    "        if(target[i])=='No':\n",
    "            for x in range(len(specific_h)):\n",
    "                if(h[x]!=specific_h[x]):\n",
    "                    general_h[x][x]=specific_h[x]\n",
    "                else:\n",
    "                    general_h[x][x]='?'\n",
    "        \n",
    "        print(f\"\\nSTEP : {i+1}\\n\")\n",
    "        print(specific_h)\n",
    "        print(general_h)\n",
    "      \n",
    "    indices=[i for i,val in enumerate(general_h) if val ==['?','?','?','?','?','?']]\n",
    "    for i in indices:\n",
    "        general_h.remove(['?','?','?','?','?','?'])\n",
    "        \n",
    "    return specific_h,general_h\n",
    "    \n"
   ]
  },
  {
   "cell_type": "code",
   "execution_count": 9,
   "id": "2d3c5108",
   "metadata": {},
   "outputs": [
    {
     "name": "stdout",
     "output_type": "stream",
     "text": [
      "Initializing Specific_h and General_h\n",
      "['Morning' 'Sunny' 'Warm' 'Yes' 'Mild' 'Strong']\n",
      "[['?', '?', '?', '?', '?', '?'], ['?', '?', '?', '?', '?', '?'], ['?', '?', '?', '?', '?', '?'], ['?', '?', '?', '?', '?', '?'], ['?', '?', '?', '?', '?', '?'], ['?', '?', '?', '?', '?', '?']]\n",
      "\n",
      "STEP : 1\n",
      "\n",
      "['Morning' 'Sunny' 'Warm' 'Yes' 'Mild' 'Strong']\n",
      "[['?', '?', '?', '?', '?', '?'], ['?', '?', '?', '?', '?', '?'], ['?', '?', '?', '?', '?', '?'], ['?', '?', '?', '?', '?', '?'], ['?', '?', '?', '?', '?', '?'], ['?', '?', '?', '?', '?', '?']]\n",
      "\n",
      "STEP : 2\n",
      "\n",
      "['Morning' 'Sunny' 'Warm' 'Yes' 'Mild' 'Strong']\n",
      "[['Morning', '?', '?', '?', '?', '?'], ['?', 'Sunny', '?', '?', '?', '?'], ['?', '?', 'Warm', '?', '?', '?'], ['?', '?', '?', 'Yes', '?', '?'], ['?', '?', '?', '?', '?', '?'], ['?', '?', '?', '?', '?', 'Strong']]\n",
      "\n",
      "STEP : 3\n",
      "\n",
      "['Morning' 'Sunny' '?' 'Yes' '?' '?']\n",
      "[['Morning', '?', '?', '?', '?', '?'], ['?', 'Sunny', '?', '?', '?', '?'], ['?', '?', '?', '?', '?', '?'], ['?', '?', '?', 'Yes', '?', '?'], ['?', '?', '?', '?', '?', '?'], ['?', '?', '?', '?', '?', '?']]\n",
      "\n",
      "STEP : 4\n",
      "\n",
      "['?' 'Sunny' '?' 'Yes' '?' '?']\n",
      "[['?', '?', '?', '?', '?', '?'], ['?', 'Sunny', '?', '?', '?', '?'], ['?', '?', '?', '?', '?', '?'], ['?', '?', '?', 'Yes', '?', '?'], ['?', '?', '?', '?', '?', '?'], ['?', '?', '?', '?', '?', '?']]\n",
      "\n",
      "\n",
      "Final Specific Hypothesis: ['?' 'Sunny' '?' 'Yes' '?' '?']\n",
      "\n",
      "\n",
      "Final General Hypothesis: [['?', 'Sunny', '?', '?', '?', '?'], ['?', '?', '?', 'Yes', '?', '?']]\n"
     ]
    }
   ],
   "source": [
    "s_final,g_final=train(concepts,target)\n",
    "\n",
    "print(f\"\\n\\nFinal Specific Hypothesis: {s_final}\")\n",
    "print(f\"\\n\\nFinal General Hypothesis: {g_final}\")"
   ]
  }
 ],
 "metadata": {
  "kernelspec": {
   "display_name": "Python 3.10.7 64-bit",
   "language": "python",
   "name": "python3"
  },
  "language_info": {
   "codemirror_mode": {
    "name": "ipython",
    "version": 3
   },
   "file_extension": ".py",
   "mimetype": "text/x-python",
   "name": "python",
   "nbconvert_exporter": "python",
   "pygments_lexer": "ipython3",
   "version": "3.10.7"
  },
  "vscode": {
   "interpreter": {
    "hash": "3af4892cee21d2bcaab2a410d7dfc68c5f427571fa250d03d2353c0e49c26e2a"
   }
  }
 },
 "nbformat": 4,
 "nbformat_minor": 5
}
